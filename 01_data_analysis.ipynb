{
 "cells": [
  {
   "cell_type": "code",
   "execution_count": 9,
   "metadata": {},
   "outputs": [],
   "source": [
    "import pandas as pd\n",
    "import seaborn as sns\n",
    "import matplotlib.pyplot as plt\n",
    "import numpy as np\n",
    "import openpyxl\n",
    "from sklearn.preprocessing import StandardScaler"
   ]
  },
  {
   "cell_type": "code",
   "execution_count": 10,
   "metadata": {},
   "outputs": [],
   "source": [
    "rendimientos = pd.read_excel(\"../data/raw/data_mutual_funds_and_factors.xlsx\", sheet_name= \"fund_returns\")\n",
    "factores = pd.read_excel(\"../data/raw/data_mutual_funds_and_factors.xlsx\", sheet_name= \"FF_factors\")"
   ]
  },
  {
   "cell_type": "code",
   "execution_count": 11,
   "metadata": {},
   "outputs": [
    {
     "data": {
      "text/html": [
       "<div>\n",
       "<style scoped>\n",
       "    .dataframe tbody tr th:only-of-type {\n",
       "        vertical-align: middle;\n",
       "    }\n",
       "\n",
       "    .dataframe tbody tr th {\n",
       "        vertical-align: top;\n",
       "    }\n",
       "\n",
       "    .dataframe thead th {\n",
       "        text-align: right;\n",
       "    }\n",
       "</style>\n",
       "<table border=\"1\" class=\"dataframe\">\n",
       "  <thead>\n",
       "    <tr style=\"text-align: right;\">\n",
       "      <th></th>\n",
       "      <th>Date</th>\n",
       "      <th>X3563</th>\n",
       "      <th>X3720</th>\n",
       "      <th>X3943</th>\n",
       "      <th>X3944</th>\n",
       "      <th>X4908</th>\n",
       "      <th>X4909</th>\n",
       "      <th>X4976</th>\n",
       "      <th>X4984</th>\n",
       "      <th>X5009</th>\n",
       "      <th>...</th>\n",
       "      <th>X30931</th>\n",
       "      <th>X30932</th>\n",
       "      <th>X31209</th>\n",
       "      <th>X31217</th>\n",
       "      <th>X31270</th>\n",
       "      <th>X31276</th>\n",
       "      <th>X31277</th>\n",
       "      <th>X31507</th>\n",
       "      <th>X32452</th>\n",
       "      <th>X32453</th>\n",
       "    </tr>\n",
       "  </thead>\n",
       "  <tbody>\n",
       "    <tr>\n",
       "      <th>0</th>\n",
       "      <td>200101</td>\n",
       "      <td>0.042591</td>\n",
       "      <td>0.002588</td>\n",
       "      <td>0.043533</td>\n",
       "      <td>0.056747</td>\n",
       "      <td>0.026646</td>\n",
       "      <td>0.026646</td>\n",
       "      <td>0.027493</td>\n",
       "      <td>0.028939</td>\n",
       "      <td>-0.013106</td>\n",
       "      <td>...</td>\n",
       "      <td>-0.002082</td>\n",
       "      <td>-0.008068</td>\n",
       "      <td>0.027760</td>\n",
       "      <td>-0.011047</td>\n",
       "      <td>0.033246</td>\n",
       "      <td>0.039895</td>\n",
       "      <td>-0.001103</td>\n",
       "      <td>0.002631</td>\n",
       "      <td>0.078147</td>\n",
       "      <td>0.013953</td>\n",
       "    </tr>\n",
       "    <tr>\n",
       "      <th>1</th>\n",
       "      <td>200102</td>\n",
       "      <td>-0.005532</td>\n",
       "      <td>-0.023236</td>\n",
       "      <td>-0.075574</td>\n",
       "      <td>-0.087754</td>\n",
       "      <td>-0.006107</td>\n",
       "      <td>-0.004580</td>\n",
       "      <td>-0.073501</td>\n",
       "      <td>-0.082143</td>\n",
       "      <td>-0.025737</td>\n",
       "      <td>...</td>\n",
       "      <td>-0.079291</td>\n",
       "      <td>-0.127140</td>\n",
       "      <td>-0.094082</td>\n",
       "      <td>-0.010343</td>\n",
       "      <td>0.026249</td>\n",
       "      <td>-0.032704</td>\n",
       "      <td>-0.005889</td>\n",
       "      <td>-0.061094</td>\n",
       "      <td>-0.029514</td>\n",
       "      <td>-0.079736</td>\n",
       "    </tr>\n",
       "    <tr>\n",
       "      <th>2</th>\n",
       "      <td>200103</td>\n",
       "      <td>-0.005967</td>\n",
       "      <td>-0.039648</td>\n",
       "      <td>-0.144539</td>\n",
       "      <td>-0.082556</td>\n",
       "      <td>-0.033917</td>\n",
       "      <td>-0.034847</td>\n",
       "      <td>-0.059485</td>\n",
       "      <td>-0.066561</td>\n",
       "      <td>-0.017017</td>\n",
       "      <td>...</td>\n",
       "      <td>-0.056091</td>\n",
       "      <td>-0.078960</td>\n",
       "      <td>-0.060302</td>\n",
       "      <td>-0.029036</td>\n",
       "      <td>0.000825</td>\n",
       "      <td>-0.011053</td>\n",
       "      <td>-0.020363</td>\n",
       "      <td>-0.047849</td>\n",
       "      <td>-0.023703</td>\n",
       "      <td>-0.074048</td>\n",
       "    </tr>\n",
       "    <tr>\n",
       "      <th>3</th>\n",
       "      <td>200104</td>\n",
       "      <td>0.070350</td>\n",
       "      <td>0.072477</td>\n",
       "      <td>0.163609</td>\n",
       "      <td>0.112676</td>\n",
       "      <td>0.046252</td>\n",
       "      <td>0.046252</td>\n",
       "      <td>0.091617</td>\n",
       "      <td>0.094468</td>\n",
       "      <td>0.059972</td>\n",
       "      <td>...</td>\n",
       "      <td>0.096038</td>\n",
       "      <td>0.096912</td>\n",
       "      <td>0.088770</td>\n",
       "      <td>0.045907</td>\n",
       "      <td>0.045342</td>\n",
       "      <td>0.060487</td>\n",
       "      <td>0.052532</td>\n",
       "      <td>0.049895</td>\n",
       "      <td>0.054637</td>\n",
       "      <td>0.081746</td>\n",
       "    </tr>\n",
       "    <tr>\n",
       "      <th>4</th>\n",
       "      <td>200105</td>\n",
       "      <td>0.018145</td>\n",
       "      <td>0.027374</td>\n",
       "      <td>0.026281</td>\n",
       "      <td>0.016878</td>\n",
       "      <td>0.038110</td>\n",
       "      <td>0.039634</td>\n",
       "      <td>0.007136</td>\n",
       "      <td>0.004292</td>\n",
       "      <td>-0.030263</td>\n",
       "      <td>...</td>\n",
       "      <td>0.050383</td>\n",
       "      <td>0.015049</td>\n",
       "      <td>0.008513</td>\n",
       "      <td>0.021118</td>\n",
       "      <td>0.062303</td>\n",
       "      <td>0.014879</td>\n",
       "      <td>0.034111</td>\n",
       "      <td>0.016773</td>\n",
       "      <td>0.027427</td>\n",
       "      <td>0.004096</td>\n",
       "    </tr>\n",
       "  </tbody>\n",
       "</table>\n",
       "<p>5 rows × 120 columns</p>\n",
       "</div>"
      ],
      "text/plain": [
       "     Date     X3563     X3720     X3943     X3944     X4908     X4909  \\\n",
       "0  200101  0.042591  0.002588  0.043533  0.056747  0.026646  0.026646   \n",
       "1  200102 -0.005532 -0.023236 -0.075574 -0.087754 -0.006107 -0.004580   \n",
       "2  200103 -0.005967 -0.039648 -0.144539 -0.082556 -0.033917 -0.034847   \n",
       "3  200104  0.070350  0.072477  0.163609  0.112676  0.046252  0.046252   \n",
       "4  200105  0.018145  0.027374  0.026281  0.016878  0.038110  0.039634   \n",
       "\n",
       "      X4976     X4984     X5009  ...    X30931    X30932    X31209    X31217  \\\n",
       "0  0.027493  0.028939 -0.013106  ... -0.002082 -0.008068  0.027760 -0.011047   \n",
       "1 -0.073501 -0.082143 -0.025737  ... -0.079291 -0.127140 -0.094082 -0.010343   \n",
       "2 -0.059485 -0.066561 -0.017017  ... -0.056091 -0.078960 -0.060302 -0.029036   \n",
       "3  0.091617  0.094468  0.059972  ...  0.096038  0.096912  0.088770  0.045907   \n",
       "4  0.007136  0.004292 -0.030263  ...  0.050383  0.015049  0.008513  0.021118   \n",
       "\n",
       "     X31270    X31276    X31277    X31507    X32452    X32453  \n",
       "0  0.033246  0.039895 -0.001103  0.002631  0.078147  0.013953  \n",
       "1  0.026249 -0.032704 -0.005889 -0.061094 -0.029514 -0.079736  \n",
       "2  0.000825 -0.011053 -0.020363 -0.047849 -0.023703 -0.074048  \n",
       "3  0.045342  0.060487  0.052532  0.049895  0.054637  0.081746  \n",
       "4  0.062303  0.014879  0.034111  0.016773  0.027427  0.004096  \n",
       "\n",
       "[5 rows x 120 columns]"
      ]
     },
     "execution_count": 11,
     "metadata": {},
     "output_type": "execute_result"
    }
   ],
   "source": [
    "rendimientos.head()"
   ]
  },
  {
   "cell_type": "code",
   "execution_count": 12,
   "metadata": {},
   "outputs": [
    {
     "data": {
      "text/plain": [
       "(240, 120)"
      ]
     },
     "execution_count": 12,
     "metadata": {},
     "output_type": "execute_result"
    }
   ],
   "source": [
    "rendimientos.shape"
   ]
  },
  {
   "cell_type": "code",
   "execution_count": 13,
   "metadata": {},
   "outputs": [
    {
     "data": {
      "text/plain": [
       "Date      0\n",
       "X3563     0\n",
       "X3720     0\n",
       "X3943     0\n",
       "X3944     0\n",
       "         ..\n",
       "X31276    0\n",
       "X31277    0\n",
       "X31507    0\n",
       "X32452    0\n",
       "X32453    0\n",
       "Length: 120, dtype: int64"
      ]
     },
     "execution_count": 13,
     "metadata": {},
     "output_type": "execute_result"
    }
   ],
   "source": [
    "rendimientos.isnull().sum()"
   ]
  },
  {
   "cell_type": "markdown",
   "metadata": {},
   "source": [
    "No hay valores nulos para los rendimientos"
   ]
  },
  {
   "cell_type": "code",
   "execution_count": 14,
   "metadata": {},
   "outputs": [
    {
     "data": {
      "text/html": [
       "<div>\n",
       "<style scoped>\n",
       "    .dataframe tbody tr th:only-of-type {\n",
       "        vertical-align: middle;\n",
       "    }\n",
       "\n",
       "    .dataframe tbody tr th {\n",
       "        vertical-align: top;\n",
       "    }\n",
       "\n",
       "    .dataframe thead th {\n",
       "        text-align: right;\n",
       "    }\n",
       "</style>\n",
       "<table border=\"1\" class=\"dataframe\">\n",
       "  <thead>\n",
       "    <tr style=\"text-align: right;\">\n",
       "      <th></th>\n",
       "      <th>Date</th>\n",
       "      <th>Mkt.RF</th>\n",
       "      <th>SMB</th>\n",
       "      <th>HML</th>\n",
       "      <th>RMW</th>\n",
       "      <th>CMA</th>\n",
       "      <th>Mom</th>\n",
       "    </tr>\n",
       "  </thead>\n",
       "  <tbody>\n",
       "    <tr>\n",
       "      <th>0</th>\n",
       "      <td>200101</td>\n",
       "      <td>3.13</td>\n",
       "      <td>5.78</td>\n",
       "      <td>-5.33</td>\n",
       "      <td>-5.31</td>\n",
       "      <td>-6.55</td>\n",
       "      <td>-25.05</td>\n",
       "    </tr>\n",
       "    <tr>\n",
       "      <th>1</th>\n",
       "      <td>200102</td>\n",
       "      <td>-10.05</td>\n",
       "      <td>2.63</td>\n",
       "      <td>12.58</td>\n",
       "      <td>9.09</td>\n",
       "      <td>9.56</td>\n",
       "      <td>12.51</td>\n",
       "    </tr>\n",
       "    <tr>\n",
       "      <th>2</th>\n",
       "      <td>200103</td>\n",
       "      <td>-7.26</td>\n",
       "      <td>2.27</td>\n",
       "      <td>6.52</td>\n",
       "      <td>3.27</td>\n",
       "      <td>3.94</td>\n",
       "      <td>8.35</td>\n",
       "    </tr>\n",
       "    <tr>\n",
       "      <th>3</th>\n",
       "      <td>200104</td>\n",
       "      <td>7.94</td>\n",
       "      <td>-0.66</td>\n",
       "      <td>-4.80</td>\n",
       "      <td>-3.42</td>\n",
       "      <td>-3.95</td>\n",
       "      <td>-7.97</td>\n",
       "    </tr>\n",
       "    <tr>\n",
       "      <th>4</th>\n",
       "      <td>200105</td>\n",
       "      <td>0.72</td>\n",
       "      <td>3.56</td>\n",
       "      <td>3.34</td>\n",
       "      <td>0.17</td>\n",
       "      <td>2.18</td>\n",
       "      <td>2.12</td>\n",
       "    </tr>\n",
       "  </tbody>\n",
       "</table>\n",
       "</div>"
      ],
      "text/plain": [
       "     Date  Mkt.RF   SMB    HML   RMW   CMA    Mom\n",
       "0  200101    3.13  5.78  -5.33 -5.31 -6.55 -25.05\n",
       "1  200102  -10.05  2.63  12.58  9.09  9.56  12.51\n",
       "2  200103   -7.26  2.27   6.52  3.27  3.94   8.35\n",
       "3  200104    7.94 -0.66  -4.80 -3.42 -3.95  -7.97\n",
       "4  200105    0.72  3.56   3.34  0.17  2.18   2.12"
      ]
     },
     "execution_count": 14,
     "metadata": {},
     "output_type": "execute_result"
    }
   ],
   "source": [
    "factores.head()"
   ]
  },
  {
   "cell_type": "code",
   "execution_count": 15,
   "metadata": {},
   "outputs": [
    {
     "data": {
      "text/plain": [
       "(240, 7)"
      ]
     },
     "execution_count": 15,
     "metadata": {},
     "output_type": "execute_result"
    }
   ],
   "source": [
    "factores.shape"
   ]
  },
  {
   "cell_type": "code",
   "execution_count": 16,
   "metadata": {},
   "outputs": [
    {
     "data": {
      "text/plain": [
       "Date      0\n",
       "Mkt.RF    0\n",
       "SMB       0\n",
       "HML       0\n",
       "RMW       0\n",
       "CMA       0\n",
       "Mom       0\n",
       "dtype: int64"
      ]
     },
     "execution_count": 16,
     "metadata": {},
     "output_type": "execute_result"
    }
   ],
   "source": [
    "factores.isnull().sum()"
   ]
  },
  {
   "cell_type": "markdown",
   "metadata": {},
   "source": [
    "No hay nulos para los factores"
   ]
  },
  {
   "cell_type": "markdown",
   "metadata": {},
   "source": [
    "### Se comprueba, como se nos menciona en el PDF, que los rendimientos y sus factores estan en escalas diferentes ya que los factores estan porcentaje a diferencia de los rendimientos, por lo que habría que dividirlos por 100 como se realiza a continuación."
   ]
  },
  {
   "cell_type": "code",
   "execution_count": 17,
   "metadata": {},
   "outputs": [],
   "source": [
    "columnas = [\"Mkt.RF\", \"SMB\", \"HML\", \"RMW\", \"CMA\", \"Mom\"]\n",
    "\n",
    "factores[columnas] = factores[columnas] / 100"
   ]
  },
  {
   "cell_type": "code",
   "execution_count": 18,
   "metadata": {},
   "outputs": [
    {
     "data": {
      "text/html": [
       "<div>\n",
       "<style scoped>\n",
       "    .dataframe tbody tr th:only-of-type {\n",
       "        vertical-align: middle;\n",
       "    }\n",
       "\n",
       "    .dataframe tbody tr th {\n",
       "        vertical-align: top;\n",
       "    }\n",
       "\n",
       "    .dataframe thead th {\n",
       "        text-align: right;\n",
       "    }\n",
       "</style>\n",
       "<table border=\"1\" class=\"dataframe\">\n",
       "  <thead>\n",
       "    <tr style=\"text-align: right;\">\n",
       "      <th></th>\n",
       "      <th>Date</th>\n",
       "      <th>Mkt.RF</th>\n",
       "      <th>SMB</th>\n",
       "      <th>HML</th>\n",
       "      <th>RMW</th>\n",
       "      <th>CMA</th>\n",
       "      <th>Mom</th>\n",
       "    </tr>\n",
       "  </thead>\n",
       "  <tbody>\n",
       "    <tr>\n",
       "      <th>0</th>\n",
       "      <td>200101</td>\n",
       "      <td>0.0313</td>\n",
       "      <td>0.0578</td>\n",
       "      <td>-0.0533</td>\n",
       "      <td>-0.0531</td>\n",
       "      <td>-0.0655</td>\n",
       "      <td>-0.2505</td>\n",
       "    </tr>\n",
       "    <tr>\n",
       "      <th>1</th>\n",
       "      <td>200102</td>\n",
       "      <td>-0.1005</td>\n",
       "      <td>0.0263</td>\n",
       "      <td>0.1258</td>\n",
       "      <td>0.0909</td>\n",
       "      <td>0.0956</td>\n",
       "      <td>0.1251</td>\n",
       "    </tr>\n",
       "    <tr>\n",
       "      <th>2</th>\n",
       "      <td>200103</td>\n",
       "      <td>-0.0726</td>\n",
       "      <td>0.0227</td>\n",
       "      <td>0.0652</td>\n",
       "      <td>0.0327</td>\n",
       "      <td>0.0394</td>\n",
       "      <td>0.0835</td>\n",
       "    </tr>\n",
       "    <tr>\n",
       "      <th>3</th>\n",
       "      <td>200104</td>\n",
       "      <td>0.0794</td>\n",
       "      <td>-0.0066</td>\n",
       "      <td>-0.0480</td>\n",
       "      <td>-0.0342</td>\n",
       "      <td>-0.0395</td>\n",
       "      <td>-0.0797</td>\n",
       "    </tr>\n",
       "    <tr>\n",
       "      <th>4</th>\n",
       "      <td>200105</td>\n",
       "      <td>0.0072</td>\n",
       "      <td>0.0356</td>\n",
       "      <td>0.0334</td>\n",
       "      <td>0.0017</td>\n",
       "      <td>0.0218</td>\n",
       "      <td>0.0212</td>\n",
       "    </tr>\n",
       "  </tbody>\n",
       "</table>\n",
       "</div>"
      ],
      "text/plain": [
       "     Date  Mkt.RF     SMB     HML     RMW     CMA     Mom\n",
       "0  200101  0.0313  0.0578 -0.0533 -0.0531 -0.0655 -0.2505\n",
       "1  200102 -0.1005  0.0263  0.1258  0.0909  0.0956  0.1251\n",
       "2  200103 -0.0726  0.0227  0.0652  0.0327  0.0394  0.0835\n",
       "3  200104  0.0794 -0.0066 -0.0480 -0.0342 -0.0395 -0.0797\n",
       "4  200105  0.0072  0.0356  0.0334  0.0017  0.0218  0.0212"
      ]
     },
     "execution_count": 18,
     "metadata": {},
     "output_type": "execute_result"
    }
   ],
   "source": [
    "factores.head()"
   ]
  },
  {
   "cell_type": "code",
   "execution_count": 19,
   "metadata": {},
   "outputs": [
    {
     "name": "stdout",
     "output_type": "stream",
     "text": [
      "               Date      Mkt.RF         SMB         HML         RMW  \\\n",
      "count     240.00000  240.000000  240.000000  240.000000  240.000000   \n",
      "mean   201056.50000    0.006443    0.002802   -0.000919    0.003061   \n",
      "std       577.84356    0.045153    0.026701    0.028890    0.022035   \n",
      "min    200101.00000   -0.172300   -0.083800   -0.139600   -0.089300   \n",
      "25%    200578.75000   -0.018950   -0.014125   -0.016500   -0.009775   \n",
      "50%    201056.50000    0.011750    0.002350   -0.001200    0.003150   \n",
      "75%    201534.25000    0.032625    0.021150    0.015075    0.013200   \n",
      "max    202012.00000    0.136500    0.069400    0.125800    0.090900   \n",
      "\n",
      "              CMA         Mom  \n",
      "count  240.000000  240.000000  \n",
      "mean     0.001076    0.001088  \n",
      "std      0.018524    0.050877  \n",
      "min     -0.065500   -0.343900  \n",
      "25%     -0.010650   -0.016875  \n",
      "50%     -0.000450    0.003500  \n",
      "75%      0.010600    0.028350  \n",
      "max      0.095600    0.125400  \n"
     ]
    }
   ],
   "source": [
    "print(factores.describe())"
   ]
  },
  {
   "cell_type": "markdown",
   "metadata": {},
   "source": [
    "------------------------------------------------------------------------------------------------"
   ]
  },
  {
   "cell_type": "markdown",
   "metadata": {},
   "source": [
    "# **ESTANDARIZACIÓN ¿NECESARIA?**\n",
    "\n",
    "Si es necesaria la estandarización, ¿por qué?, al ser el principal objetivo del trabajo realizar, con nuestro conjunto de datos, realizar los siguientes 4 modelos de regresión:\n",
    "- Regresion Lineal Ordinaria (OLS). ´\n",
    "- Lasso.\n",
    "- Ridge.\n",
    "- Elastic Net.\n",
    "Se deben estandarizar los datos debido a que:\n",
    "\n",
    "| **Modelo**            | **¿Necesita estandarización?** | **Razón**                                                                 |\n",
    "|------------------------|--------------------------------|---------------------------------------------------------------------------|\n",
    "| Regresión Lineal (OLS) | Recomendable                  | Facilita la interpretación y comparación de coeficientes.                 |\n",
    "| Lasso                  | Sí                            | La penalización L1 es sensible a la escala de las variables.              |\n",
    "| Ridge                  | Sí                            | La penalización L2 es sensible a la escala de las variables.              |\n",
    "| Elastic Net            | Sí                            | Combina L1 y L2, por lo que requiere estandarización.                     |\n",
    "\n",
    "Por todo lo anterior se procede a estandarizar los factores."
   ]
  },
  {
   "cell_type": "code",
   "execution_count": 22,
   "metadata": {},
   "outputs": [],
   "source": [
    "scaler = StandardScaler()\n",
    "factores[columnas] = scaler.fit_transform(factores[columnas])"
   ]
  },
  {
   "cell_type": "code",
   "execution_count": 23,
   "metadata": {},
   "outputs": [
    {
     "name": "stdout",
     "output_type": "stream",
     "text": [
      "               Date      Mkt.RF           SMB           HML           RMW  \\\n",
      "count     240.00000  240.000000  2.400000e+02  2.400000e+02  2.400000e+02   \n",
      "mean   201056.50000    0.000000  1.480297e-17  3.700743e-17  1.480297e-17   \n",
      "std       577.84356    1.002090  1.002090e+00  1.002090e+00  1.002090e+00   \n",
      "min    200101.00000   -3.966858 -3.250161e+00 -4.810397e+00 -4.200237e+00   \n",
      "25%    200578.75000   -0.563547 -6.352705e-01 -5.404495e-01 -5.837274e-01   \n",
      "50%    201056.50000    0.117781 -1.696661e-02 -9.741214e-03  4.054978e-03   \n",
      "75%    201534.25000    0.581061  6.885942e-01  5.547867e-01  4.610927e-01   \n",
      "max    202012.00000    2.886369  2.499408e+00  4.395484e+00  3.994608e+00   \n",
      "\n",
      "                CMA           Mom  \n",
      "count  2.400000e+02  2.400000e+02  \n",
      "mean   5.921189e-17  1.850372e-18  \n",
      "std    1.002090e+00  1.002090e+00  \n",
      "min   -3.601591e+00 -6.795047e+00  \n",
      "25%   -6.343391e-01 -3.538140e-01  \n",
      "50%   -8.254388e-02  4.750128e-02  \n",
      "75%    5.152343e-01  5.369582e-01  \n",
      "max    5.113528e+00  2.448499e+00  \n"
     ]
    }
   ],
   "source": [
    "print(factores.describe())"
   ]
  },
  {
   "cell_type": "markdown",
   "metadata": {},
   "source": [
    "### **SE GUARDAN LOS FACTORES ESCALADOS Y POSTERIORMENTE ESTANDARIZADOS EN UN NUEVO EXCEL**"
   ]
  },
  {
   "cell_type": "code",
   "execution_count": 26,
   "metadata": {},
   "outputs": [],
   "source": [
    "import pandas as pd\n",
    "ruta_archivo = \"../data/processed/data_mutual_funds_and_factors_processed.xlsx\"\n",
    "\n",
    "with pd.ExcelWriter(ruta_archivo) as writer:\n",
    "    rendimientos.to_excel(writer, sheet_name=\"fund_returns\", index=False)\n",
    "    factores.to_excel(writer, sheet_name=\"FF_factors\", index=False)"
   ]
  }
 ],
 "metadata": {
  "kernelspec": {
   "display_name": "practica_EDA",
   "language": "python",
   "name": "python3"
  },
  "language_info": {
   "codemirror_mode": {
    "name": "ipython",
    "version": 3
   },
   "file_extension": ".py",
   "mimetype": "text/x-python",
   "name": "python",
   "nbconvert_exporter": "python",
   "pygments_lexer": "ipython3",
   "version": "3.9.20"
  }
 },
 "nbformat": 4,
 "nbformat_minor": 2
}
